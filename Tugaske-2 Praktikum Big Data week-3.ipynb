{
 "cells": [
  {
   "cell_type": "code",
   "execution_count": 3,
   "metadata": {},
   "outputs": [
    {
     "data": {
      "text/plain": [
       "[('aku', 1),\n",
       " ('suka', 1),\n",
       " ('sama', 1),\n",
       " ('kamu', 1),\n",
       " ('dan', 1),\n",
       " ('kamu', 1),\n",
       " ('suka', 1),\n",
       " ('sama', 1),\n",
       " ('dia', 1)]"
      ]
     },
     "execution_count": 3,
     "metadata": {},
     "output_type": "execute_result"
    }
   ],
   "source": [
    "text = \"aku suka sama kamu dan kamu suka sama dia\"\n",
    "## Map Function\n",
    "def map_function(text):\n",
    "    for word in text.split():\n",
    "        yield (word.lower(), 1)\n",
    "\n",
    "# Map Stage\n",
    "hasil_map = list(map_function(text))\n",
    "\n",
    "hasil_map"
   ]
  },
  {
   "cell_type": "code",
   "execution_count": 4,
   "metadata": {},
   "outputs": [
    {
     "data": {
      "text/plain": [
       "defaultdict(int,\n",
       "            {'aku': 1, 'suka': 2, 'sama': 2, 'kamu': 2, 'dan': 1, 'dia': 1})"
      ]
     },
     "execution_count": 4,
     "metadata": {},
     "output_type": "execute_result"
    }
   ],
   "source": [
    "## Reduce Function\n",
    "from collections import defaultdict\n",
    "\n",
    "def reduce_function(pairs):\n",
    "    result = defaultdict (int)\n",
    "    for word, count in pairs:\n",
    "        result[word] += count\n",
    "    return result\n",
    "\n",
    "# Reduce Stage\n",
    "hasil_reduce = reduce_function(hasil_map)\n",
    "\n",
    "hasil_reduce"
   ]
  }
 ],
 "metadata": {
  "kernelspec": {
   "display_name": "base",
   "language": "python",
   "name": "python3"
  },
  "language_info": {
   "codemirror_mode": {
    "name": "ipython",
    "version": 3
   },
   "file_extension": ".py",
   "mimetype": "text/x-python",
   "name": "python",
   "nbconvert_exporter": "python",
   "pygments_lexer": "ipython3",
   "version": "3.12.4"
  }
 },
 "nbformat": 4,
 "nbformat_minor": 2
}
